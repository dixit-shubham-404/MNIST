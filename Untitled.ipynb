{
 "cells": [
  {
   "cell_type": "code",
   "execution_count": 1,
   "metadata": {},
   "outputs": [],
   "source": [
    "#importing neccesary libraries\n",
    "import warnings\n",
    "warnings.filterwarnings('ignore')\n",
    "from tensorflow.keras.datasets import mnist\n",
    "import matplotlib.pyplot as plt\n",
    "import tensorflow as tf\n",
    "from tensorflow.keras.preprocessing.image import ImageDataGenerator\n",
    "from tensorflow.keras import layers\n",
    "from tensorflow.keras.layers import Conv2D,MaxPooling2D, BatchNormalization\n",
    "from tensorflow.keras.layers import Dropout, Flatten, Input, Dense,Activation\n"
   ]
  },
  {
   "cell_type": "code",
   "execution_count": 2,
   "metadata": {},
   "outputs": [],
   "source": [
    "#loading training and testing data\n",
    "(x_train,y_train),(x_test,y_test)=mnist.load_data()"
   ]
  },
  {
   "cell_type": "code",
   "execution_count": 3,
   "metadata": {},
   "outputs": [
    {
     "data": {
      "image/png": "[encoded data removed]",
      "text/plain": [
       "<Figure size 432x288 with 9 Axes>"
      ]
     },
     "execution_count": 3,
     "metadata": {},
     "output_type": "execute_result"
    },
    {
     "data": {
      "image/png": "[encoded data removed]",
      "text/plain": [
       "<Figure size 432x288 with 9 Axes>"
      ]
     },
     "metadata": {},
     "output_type": "display_data"
    }
   ],
   "source": [
    "#analyzing data\n",
    "fig=plt.figure()\n",
    "for i in range(9):\n",
    "    plt.subplot(3,3,1+i)\n",
    "    plt.tight_layout()\n",
    "    plt.imshow(x_train[i],cmap='gray',interpolation='none')\n",
    "    plt.title(\"Digit: {}\".format(y_train[i]))\n",
    "    plt.xticks([])\n",
    "    plt.yticks([])\n",
    "fig"
   ]
  },
  {
   "cell_type": "code",
   "execution_count": 4,
   "metadata": {},
   "outputs": [],
   "source": [
    "#data preprocessing\n",
    "x_train = x_train.reshape(-1,28, 28, 1)\n",
    "\n",
    "x_test = x_test.reshape(-1,28, 28, 1)\n",
    "input_shape=(28,28,1)\n",
    "    \n",
    "x_train=x_train.astype('float32')\n",
    "x_test=x_test.astype('float32')\n",
    "x_train=x_train/255\n",
    "x_test=x_test/255\n"
   ]
  },
  {
   "cell_type": "code",
   "execution_count": 5,
   "metadata": {},
   "outputs": [
    {
     "name": "stdout",
     "output_type": "stream",
     "text": [
      "(60000, 28, 28, 1)\n"
     ]
    }
   ],
   "source": [
    "print(x_train.shape)"
   ]
  },
  {
   "cell_type": "code",
   "execution_count": 6,
   "metadata": {},
   "outputs": [],
   "source": [
    "num_category=10\n",
    "y_train=tf.keras.utils.to_categorical(y_train,num_category)\n",
    "y_test=tf.keras.utils.to_categorical(y_test,num_category)"
   ]
  },
  {
   "cell_type": "code",
   "execution_count": 7,
   "metadata": {},
   "outputs": [],
   "source": [
    "#defining batch normmalization\n",
    "def conv_batch_norm(x, n_out, phase_train):\n",
    "    beta_init = tf.constant_initializer(value=0.0,dtype=tf.float32)\n",
    "    gamma_init = tf.constant_initializer(value=1.0,dtype=tf.float32)\n",
    "    beta = tf.get_variable(\"beta\", [n_out],initializer=beta_init)\n",
    "    gamma = tf.get_variable(\"gamma\", [n_out],initializer=gamma_init)\n",
    "    batch_mean, batch_var = tf.nn.moments(x, [0,1,2],name='moments')\n",
    "    ema = tf.train.ExponentialMovingAverage(decay=0.9)\n",
    "    ema_apply_op = ema.apply([batch_mean, batch_var])\n",
    "    ema_mean, ema_var = ema.average(batch_mean),\n",
    "    ema.average(batch_var)\n",
    "    def mean_var_with_update():\n",
    "        with tf.control_dependencies([ema_apply_op]):\n",
    "            return tf.identity(batch_mean),tf.identity(batch_var)\n",
    "    mean, var = control_flow_ops.cond(phase_train,mean_var_with_update,lambda: (ema_mean, ema_var))\n",
    "    normed = tf.nn.batch_norm_with_global_normalization(x,mean, var, beta, gamma, 1e-3, True)\n",
    "    return normed"
   ]
  },
  {
   "cell_type": "code",
   "execution_count": 8,
   "metadata": {},
   "outputs": [
    {
     "name": "stdout",
     "output_type": "stream",
     "text": [
      "WARNING:tensorflow:From C:\\Users\\Dell\\anaconda3\\lib\\site-packages\\tensorflow\\python\\ops\\init_ops.py:1251: calling VarianceScaling.__init__ (from tensorflow.python.ops.init_ops) with dtype is deprecated and will be removed in a future version.\n",
      "Instructions for updating:\n",
      "Call initializer instance with the dtype argument instead of passing it to the constructor\n"
     ]
    }
   ],
   "source": [
    "#creating model\n",
    "input_shape=(28,28,1)\n",
    "model=tf.keras.Sequential()\n",
    "model.add(Conv2D(32,kernel_size=(3,3),activation='relu',input_shape=input_shape,padding='same'))\n",
    "model.add(BatchNormalization())\n",
    "model.add(Activation('relu'))\n",
    "model.add(Conv2D(64,(3,3),activation='relu'))\n",
    "model.add(MaxPooling2D(pool_size=(2,2)))\n",
    "model.add(Dropout(0.25))\n",
    "model.add(Flatten())\n",
    "model.add(Dense(128,use_bias=False))\n",
    "model.add(BatchNormalization())\n",
    "model.add(Activation('relu'))\n",
    "model.add(Dropout(0.5))\n",
    "model.add(Dense(num_category,activation='softmax'))\n",
    "model.add(Input(shape=(28,28,1)))\n",
    "model.compile(loss=tf.keras.losses.categorical_crossentropy,optimizer=tf.keras.optimizers.Adadelta(),metrics=['categorical_accuracy'])"
   ]
  },
  {
   "cell_type": "code",
   "execution_count": 9,
   "metadata": {},
   "outputs": [
    {
     "name": "stdout",
     "output_type": "stream",
     "text": [
      "Epoch 1/10\n",
      "WARNING:tensorflow:From C:\\Users\\Dell\\anaconda3\\lib\\site-packages\\tensorflow\\python\\ops\\math_grad.py:1250: add_dispatch_support.<locals>.wrapper (from tensorflow.python.ops.array_ops) is deprecated and will be removed in a future version.\n",
      "Instructions for updating:\n",
      "Use tf.where in 2.0, which has the same broadcast rule as np.where\n",
      "1875/1875 [==============================] - 394s 210ms/step - loss: 2.5525 - categorical_accuracy: 0.1916 - val_loss: 1.3501 - val_categorical_accuracy: 0.5949\n",
      "Epoch 2/10\n",
      "1875/1875 [==============================] - 391s 209ms/step - loss: 1.9487 - categorical_accuracy: 0.3469 - val_loss: 0.9261 - val_categorical_accuracy: 0.7566\n",
      "Epoch 3/10\n",
      "1875/1875 [==============================] - 394s 210ms/step - loss: 1.6515 - categorical_accuracy: 0.4461 - val_loss: 0.7330 - val_categorical_accuracy: 0.8045\n",
      "Epoch 4/10\n",
      "1875/1875 [==============================] - 407s 217ms/step - loss: 1.4725 - categorical_accuracy: 0.5091 - val_loss: 0.6153 - val_categorical_accuracy: 0.8338\n",
      "Epoch 5/10\n",
      "1875/1875 [==============================] - 403s 215ms/step - loss: 1.3412 - categorical_accuracy: 0.5562 - val_loss: 0.5357 - val_categorical_accuracy: 0.8587\n",
      "Epoch 6/10\n",
      "1875/1875 [==============================] - 397s 212ms/step - loss: 1.2329 - categorical_accuracy: 0.5954 - val_loss: 0.4751 - val_categorical_accuracy: 0.8749\n",
      "Epoch 7/10\n",
      "1875/1875 [==============================] - 402s 215ms/step - loss: 1.1381 - categorical_accuracy: 0.6295 - val_loss: 0.4326 - val_categorical_accuracy: 0.8861\n",
      "Epoch 8/10\n",
      "1875/1875 [==============================] - 401s 214ms/step - loss: 1.0687 - categorical_accuracy: 0.6530 - val_loss: 0.3938 - val_categorical_accuracy: 0.8957\n",
      "Epoch 9/10\n",
      "1875/1875 [==============================] - 400s 213ms/step - loss: 1.0050 - categorical_accuracy: 0.6773 - val_loss: 0.3641 - val_categorical_accuracy: 0.9044\n",
      "Epoch 10/10\n",
      "1875/1875 [==============================] - 398s 212ms/step - loss: 0.9470 - categorical_accuracy: 0.7000 - val_loss: 0.3375 - val_categorical_accuracy: 0.9114\n"
     ]
    },
    {
     "data": {
      "text/plain": [
       "<tensorflow.python.keras.callbacks.History at 0x20087b70308>"
      ]
     },
     "execution_count": 9,
     "metadata": {},
     "output_type": "execute_result"
    }
   ],
   "source": [
    "#fitting model\n",
    "batch_size = 32\n",
    "num_classes = 10\n",
    "epochs = 10\n",
    "data_augmentation = True\n",
    "num_predictions = 20\n",
    "datagen = ImageDataGenerator(\n",
    "        featurewise_center=False,  # set input mean to 0 over the dataset\n",
    "        samplewise_center=False,  # set each sample mean to 0\n",
    "        featurewise_std_normalization=False,  # divide inputs by std of the dataset\n",
    "        samplewise_std_normalization=False,  # divide each input by its std\n",
    "        zca_whitening=False,  # apply ZCA whitening\n",
    "        zca_epsilon=1e-06,  # epsilon for ZCA whitening\n",
    "        rotation_range=0,  # randomly rotate images in the range (degrees, 0 to 180)\n",
    "        # randomly shift images horizontally (fraction of total width)\n",
    "        width_shift_range=0.1,\n",
    "        # randomly shift images vertically (fraction of total height)\n",
    "        height_shift_range=0.1,\n",
    "        shear_range=0.,  # set range for random shear\n",
    "        zoom_range=0.,  # set range for random zoom\n",
    "        channel_shift_range=0.,  # set range for random channel shifts\n",
    "        # set mode for filling points outside the input boundaries\n",
    "        fill_mode='nearest',\n",
    "        cval=0.,  # value used for fill_mode = \"constant\"\n",
    "        horizontal_flip=False,  # randomly flip images\n",
    "        vertical_flip=False,  # randomly flip images\n",
    "        # set rescaling factor (applied before any other transformation)\n",
    "        rescale=None,\n",
    "        # set function that will be applied on each input\n",
    "        preprocessing_function=None,\n",
    "        # image data format, either \"channels_first\" or \"channels_last\"\n",
    "        data_format=None,\n",
    "        # fraction of images reserved for validation (strictly between 0 and 1)\n",
    "        validation_split=0.0)\n",
    "\n",
    "    # Compute quantities required for feature-wise normalization\n",
    "    # (std, mean, and principal components if ZCA whitening is applied).\n",
    "datagen.fit(x_train)\n",
    "\n",
    "    # Fit the model on the batches generated by datagen.flow().\n",
    "model.fit_generator(datagen.flow(x_train, y_train,\n",
    "                                     batch_size=batch_size),use_multiprocessing=False,\n",
    "                        epochs=epochs,\n",
    "                        validation_data=(x_test, y_test),\n",
    "                        workers=1\n",
    "                   )\n"
   ]
  },
  {
   "cell_type": "code",
   "execution_count": 10,
   "metadata": {},
   "outputs": [
    {
     "name": "stdout",
     "output_type": "stream",
     "text": [
      "10000/10000 [==============================] - 14s 1ms/sample - loss: 0.3376 - categorical_accuracy: 0.9114 0s - loss: 0.3352 - catego\n",
      "Test loss: 0.3376140093922615\n",
      "Test accuracy: 0.9114\n"
     ]
    }
   ],
   "source": [
    "score = model.evaluate(x_test, y_test, verbose=1)\n",
    "print('Test loss:', score[0])\n",
    "print('Test accuracy:', score[1])"
   ]
  },
  {
   "cell_type": "code",
   "execution_count": null,
   "metadata": {},
   "outputs": [],
   "source": []
  }
 ],
 "metadata": {
  "kernelspec": {
   "display_name": "Python 3",
   "language": "python",
   "name": "python3"
  },
  "language_info": {
   "codemirror_mode": {
    "name": "ipython",
    "version": 3
   },
   "file_extension": ".py",
   "mimetype": "text/x-python",
   "name": "python",
   "nbconvert_exporter": "python",
   "pygments_lexer": "ipython3",
   "version": "3.7.6"
  }
 },
 "nbformat": 4,
 "nbformat_minor": 4
}
